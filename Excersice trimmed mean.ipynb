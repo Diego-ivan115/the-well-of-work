{
 "cells": [
  {
   "cell_type": "markdown",
   "metadata": {},
   "source": [
    "## Trimmed mean"
   ]
  },
  {
   "cell_type": "markdown",
   "metadata": {},
   "source": [
    "The trimmed mean is useful when in a set of values are extemely low values or extemely high values, this outliers values can modified the mean in a great scale, so, the trimmed mean eliminates a percentage of the lowest values and the highest values, this in order to provide a more real mean.\n",
    "The program runs a infinite cycle in order to acknowlegde the amoun of values that we have, this clycle will not stop until we enter the command \"Nothing\" when it asks for the next value.\n",
    "From there the program runs a sort method, in this case a bubble sorting to ordenate the list of values, later with this new ordened list of values the program ask for the percentage that is going to be used in the calculation of trimmed mean.\n",
    "From them, the program \"cut\" the values of the extremes that fit in that percentage.\n",
    "Lastly, the program calculate the trimmed mean."
   ]
  },
  {
   "cell_type": "code",
   "execution_count": 7,
   "metadata": {},
   "outputs": [
    {
     "name": "stdout",
     "output_type": "stream",
     "text": [
      "Introduce the data 1: 8\n",
      "Introduce the data 2: 6\n",
      "Introduce the data 3: 5\n",
      "Introduce the data 4: 5\n",
      "Introduce the data 5: 8\n",
      "Introduce the data 6: 9\n",
      "Introduce the data 7: 4\n",
      "Introduce the data 8: 2\n",
      "Introduce the data 9: 8\n",
      "Introduce the data 10: Nothing\n",
      "This is the ordered list: \n",
      " [2.0, 4.0, 5.0, 5.0, 6.0, 8.0, 8.0, 8.0, 9.0]\n",
      "Which will be the percentage of the Trimmed mean? 20\n",
      "\n",
      "The Trimmed mean will be calculated in base of 20.0%\n",
      "This is the data that will be calculated: \n",
      "\n",
      "4.0 5.0 5.0 6.0 8.0 8.0 8.0 \n",
      "This is the value o the Trimmed mean 6.285714285714286\n"
     ]
    }
   ],
   "source": [
    "a = 0\n",
    "n = 0\n",
    "grp = 0\n",
    "sums = 0\n",
    "g = []\n",
    "\n",
    "while a == 0:\n",
    "    values = input(f\"Introduce the data {n+1}: \")\n",
    "    \n",
    "    if values == \"Nothing\":\n",
    "        a = 1\n",
    "        \n",
    "    if values != \"Nothing\":\n",
    "        x = float(values)\n",
    "        n = n + 1\n",
    "        g.append(x)\n",
    "\n",
    "for h in range(0,n-1):\n",
    "    for i in range(h,n):\n",
    "        if g[h] > g[i]:\n",
    "            grp = g[h]\n",
    "            g[h] = g[i]\n",
    "            g[i] = grp\n",
    "            \n",
    "print(f\"This is the ordered list: \\n {g}\")\n",
    "            \n",
    "if n > 0:\n",
    "    tm = float(input(\"Which will be the percentage of the Trimmed mean? \"))\n",
    "    while tm < 0 or tm > 50:\n",
    "        tm = float(input(\"Please. Could you change the percentage to a proper value? \"))\n",
    "    print(f\"\\nThe Trimmed mean will be calculated in base of {tm}%\")\n",
    "\n",
    "    truecut = int((tm/100)*n)\n",
    "\n",
    "    print(\"This is the data that will be calculated: \\n\")\n",
    "\n",
    "    for w in range(0+truecut,n-truecut):\n",
    "        sums = sums + g[w]\n",
    "        print(g[w], end=' ')\n",
    "\n",
    "    trimean = sums/(n-(truecut*2))\n",
    "\n",
    "    print(f\"\\nThis is the value o the Trimmed mean {trimean}\")"
   ]
  },
  {
   "cell_type": "markdown",
   "metadata": {},
   "source": []
  }
 ],
 "metadata": {
  "kernelspec": {
   "display_name": "Python 3",
   "language": "python",
   "name": "python3"
  },
  "language_info": {
   "codemirror_mode": {
    "name": "ipython",
    "version": 3
   },
   "file_extension": ".py",
   "mimetype": "text/x-python",
   "name": "python",
   "nbconvert_exporter": "python",
   "pygments_lexer": "ipython3",
   "version": "3.7.4"
  }
 },
 "nbformat": 4,
 "nbformat_minor": 2
}
