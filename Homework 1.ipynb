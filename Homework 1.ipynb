{
 "cells": [
  {
   "cell_type": "markdown",
   "metadata": {},
   "source": [
    "## Introduction to Python"
   ]
  },
  {
   "cell_type": "markdown",
   "metadata": {},
   "source": [
    "# Exercise 1: Print"
   ]
  },
  {
   "cell_type": "code",
   "execution_count": 5,
   "metadata": {},
   "outputs": [
    {
     "name": "stdout",
     "output_type": "stream",
     "text": [
      "Hello my friends\n"
     ]
    }
   ],
   "source": [
    "print(\"Hello my friends\")"
   ]
  },
  {
   "cell_type": "code",
   "execution_count": 1,
   "metadata": {},
   "outputs": [
    {
     "name": "stdout",
     "output_type": "stream",
     "text": [
      "This exercise is really simple\n"
     ]
    }
   ],
   "source": [
    "print(\"This exercise is really simple\")"
   ]
  },
  {
   "cell_type": "markdown",
   "metadata": {},
   "source": [
    "The command \"print\" allows us to see a message display in the screen."
   ]
  },
  {
   "cell_type": "markdown",
   "metadata": {},
   "source": [
    "# Exercise 2: Comments "
   ]
  },
  {
   "cell_type": "code",
   "execution_count": 7,
   "metadata": {},
   "outputs": [
    {
     "name": "stdout",
     "output_type": "stream",
     "text": [
      "This section will be display\n"
     ]
    }
   ],
   "source": [
    "#the comment will not be display \n",
    "print(\"This section will be display\") \n",
    "#print(\"But this one will not appear\")"
   ]
  },
  {
   "cell_type": "markdown",
   "metadata": {},
   "source": [
    "The \"comment\" is a command that allows us to leave descriptions of the code using the symbol #, the functionality of this is that we can leave messages without affecting the functionality of the code, this is usefull when we are trying to explain the porpuse of each line of code. \n",
    "Also the symbol # can be use to remove any command in the code temporarily."
   ]
  },
  {
   "cell_type": "markdown",
   "metadata": {},
   "source": [
    "# Exercise 3: Numbers and operations"
   ]
  },
  {
   "cell_type": "code",
   "execution_count": 19,
   "metadata": {},
   "outputs": [
    {
     "name": "stdout",
     "output_type": "stream",
     "text": [
      "Lets count my money\n",
      "In my wallet 43.5\n",
      "In my bank account 2201\n",
      "It is true that 5+2>3+4\n",
      "False\n",
      "What is 5+2? 7\n",
      "What is 3+4? 7\n",
      "So, they are equal\n",
      "5+2>=3+4 True\n"
     ]
    }
   ],
   "source": [
    "print(\"Lets count my money\")\n",
    "print(\"In my wallet\",30+12+3/2)\n",
    "print(\"In my bank account\", 100*22+1)\n",
    "print(\"It is true that 5+2>3+4\")\n",
    "print(5+2>3+4)\n",
    "print(\"What is 5+2?\",5+2)  \n",
    "print(\"What is 3+4?\",3+4)\n",
    "print(\"So, they are equal\")\n",
    "print(\"5+2>=3+4\",5+2>=3+4)"
   ]
  },
  {
   "cell_type": "markdown",
   "metadata": {},
   "source": [
    "The program is able to use and interpert different mathematical operations, such as: sums, substractions, multiplications, divisions and comparations.\n",
    "Given a comparation, the program will print if the stablished comparation is true or false."
   ]
  },
  {
   "cell_type": "markdown",
   "metadata": {},
   "source": [
    "# Exercise 4: Variables"
   ]
  },
  {
   "cell_type": "code",
   "execution_count": 25,
   "metadata": {},
   "outputs": [
    {
     "name": "stdout",
     "output_type": "stream",
     "text": [
      "There are 20 restaurants in town\n",
      "Each restaurant has 6 tables available,each one with 4 seats per table\n",
      "There are 150 costumers in town\n",
      "Each restaurant should have 7.5 costumers\n",
      "But each restaurant has a capacity of 24 costumers\n"
     ]
    }
   ],
   "source": [
    "restaurants=20\n",
    "tables_available=6\n",
    "seats_per_table=4\n",
    "costumers=150\n",
    "average_of_costumer_per_restaurant= costumers/restaurants\n",
    "capacity_of_costumers_per_restaurant= tables_available*seats_per_table\n",
    "print(\"There are\",restaurants,\"restaurants in town\")\n",
    "print(\"Each restaurant has\",tables_available,\"tables available,each one with\",seats_per_table,\"seats per table\")\n",
    "print(\"There are\",costumers,\"costumers in town\")\n",
    "print(\"Each restaurant should have\",average_of_costumer_per_restaurant,\"costumers\")\n",
    "print(\"But each restaurant has a capacity of\",capacity_of_costumers_per_restaurant,\"costumers\")"
   ]
  },
  {
   "cell_type": "markdown",
   "metadata": {},
   "source": [
    "It is possible to name variable with fixed values or create variables with the result of different operations, this variables can be call in every part of the code where they are defined.\n",
    "The use of variables simplify the use of mathematical operation, in this example the name of the variables show what are representing, but the use of single letters should be more easy and simple."
   ]
  },
  {
   "cell_type": "markdown",
   "metadata": {},
   "source": [
    "# Exercise 5: Working with more variables"
   ]
  },
  {
   "cell_type": "code",
   "execution_count": 34,
   "metadata": {},
   "outputs": [
    {
     "name": "stdout",
     "output_type": "stream",
     "text": [
      "Lets talk about Pete Zahot.\n",
      "He is 24 old.\n",
      "He weights 90 kilograms.\n",
      "His hair is colorBlack.\n",
      "He has a dog.\n"
     ]
    }
   ],
   "source": [
    " My_name= 'Pete Zahot'   \n",
    " My_age= 24\n",
    " My_weight= 90 #kilograms\n",
    " My_hair= 'Black'\n",
    " My_pet= 'a dog'\n",
    "    \n",
    "print(f\"Lets talk about {My_name}.\")  \n",
    "print(f\"He is {My_age} old.\")\n",
    "print(f\"He weights {My_weight} kilograms.\")\n",
    "print(f\"His hair is color{My_hair}.\")\n",
    "print(f\"He has {My_pet}.\")\n"
   ]
  },
  {
   "cell_type": "markdown",
   "metadata": {},
   "source": [
    "The uses of a string can be helpfull tu recall the information contained in the variable, in this way we can link several variable in a easy way."
   ]
  },
  {
   "cell_type": "markdown",
   "metadata": {},
   "source": [
    "# Exercise 6: Strings and Text"
   ]
  },
  {
   "cell_type": "code",
   "execution_count": 35,
   "metadata": {},
   "outputs": [
    {
     "name": "stdout",
     "output_type": "stream",
     "text": [
      "There are 29 attributes.\n",
      "Those who know baseball and those who don't.\n",
      "I said: There are 29 attributes.\n",
      "I also said: 'Those who know baseball and those who don't.'\n",
      "Is he married?! False\n",
      "This is the left side of...a string with a right side.\n"
     ]
    }
   ],
   "source": [
    "different_atributes = 29\n",
    "x = f\"There are {different_atributes} attributes.\"\n",
    "\n",
    "baseball = \"baseball\"\n",
    "do_not = \"don't\"\n",
    "y = f\"Those who know {baseball} and those who {do_not}.\"\n",
    "\n",
    "print(x)\n",
    "print(y)\n",
    "\n",
    "print(f\"I said: {x}\")\n",
    "print(f\"I also said: '{y}'\")\n",
    "\n",
    "married = False\n",
    "\n",
    "state = \"Is he married?! {}\"\n",
    "\n",
    "print(state.format(married))\n",
    "\n",
    "w = \"This is the left side of...\"\n",
    "e = \"a string with a right side.\"\n",
    "\n",
    "print(w + e)"
   ]
  },
  {
   "cell_type": "markdown",
   "metadata": {},
   "source": [
    "A string is a bit of text you want to display to someone or ”export” out of the program you are writing. You must write \" (double-quotes) or ' (single-quotes)"
   ]
  },
  {
   "cell_type": "markdown",
   "metadata": {},
   "source": [
    "# Exercise 7: More Printing"
   ]
  },
  {
   "cell_type": "code",
   "execution_count": 36,
   "metadata": {},
   "outputs": [
    {
     "name": "stdout",
     "output_type": "stream",
     "text": [
      "Getting tired of this exercise.\n",
      "I should be in a band.\n",
      "Many mistakes after.\n",
      "...\n",
      "Pete Zahot\n"
     ]
    }
   ],
   "source": [
    "print(\"Getting tired of this exercise.\")\n",
    "print(\"I should be in a {}.\".format('band'))\n",
    "print(\"Many mistakes after.\")\n",
    "print(\".\" * 3)\n",
    "\n",
    "end1 = \"P\"\n",
    "end2 = \"e\"\n",
    "end3 = \"t\"\n",
    "end4 = \"e\"\n",
    "end5 = \"Z\"\n",
    "end6 = \"a\"\n",
    "end7 = \"h\"\n",
    "end8 = \"o\"\n",
    "end9 = \"t\"\n",
    "\n",
    "print(end1 + end2 + end3 + end4, end=' ')\n",
    "print(end5 + end6 + end7 + end8 + end9)"
   ]
  },
  {
   "cell_type": "markdown",
   "metadata": {},
   "source": [
    "This lesson is just to make a review of how print function works, and how can be applied also with strings."
   ]
  },
  {
   "cell_type": "markdown",
   "metadata": {},
   "source": [
    "# Exercise 8: Printing, Printing"
   ]
  },
  {
   "cell_type": "code",
   "execution_count": 37,
   "metadata": {},
   "outputs": [
    {
     "name": "stdout",
     "output_type": "stream",
     "text": [
      "1 2 3 4!\n",
      "An elephant was bouncing\n",
      "True False False True\n",
      "{} {} {} {} {} {} {} {} {} {} {} {} {} {} {} {}\n",
      "Some people think they're always right Others are quiet and uptight Others they seem so very nice nice nice nice Inside they might feel sad and wrong\n"
     ]
    }
   ],
   "source": [
    "formatter = \"{} {} {} {}\"\n",
    "\n",
    "print(formatter.format(1, 2, 3, \"4!\"))\n",
    "print(formatter.format(\"An\", \"elephant\", \"was\", \"bouncing\"))\n",
    "print(formatter.format(True, False, False, True))\n",
    "print(formatter.format(formatter, formatter, formatter, formatter))\n",
    "print(formatter.format(\n",
    "\"Some people think they're always right\",\n",
    "\"Others are quiet and uptight\",\n",
    "\"Others they seem so very nice nice nice nice\",\n",
    "\"Inside they might feel sad and wrong\"))"
   ]
  },
  {
   "cell_type": "markdown",
   "metadata": {},
   "source": [
    "This just change the style of formatting to a complex one"
   ]
  },
  {
   "cell_type": "markdown",
   "metadata": {},
   "source": [
    "# Exercise 9: Printing, Printing, Printing"
   ]
  },
  {
   "cell_type": "code",
   "execution_count": 38,
   "metadata": {},
   "outputs": [
    {
     "name": "stdout",
     "output_type": "stream",
     "text": [
      "Here are the days:  Mon Tue Wed Thu Fri Sat Sun\n",
      "Here are the months:  \n",
      "Jan\n",
      "Feb\n",
      "Mar\n",
      "Apr\n",
      "May\n",
      "Jun\n",
      "Jul\n",
      "Aug\n",
      "\n",
      "There's something going on here.\n",
      "With the three double-quotes.\n",
      "We'll be able to type as much as we like.\n",
      "Even 4 lines if we want, or 5, or 6.\n",
      "\n"
     ]
    }
   ],
   "source": [
    "days = \"Mon Tue Wed Thu Fri Sat Sun\"\n",
    "months = \"\\nJan\\nFeb\\nMar\\nApr\\nMay\\nJun\\nJul\\nAug\"\n",
    "\n",
    "print(\"Here are the days: \", days)\n",
    "print(\"Here are the months: \", months)\n",
    "\n",
    "print(\"\"\"\n",
    "There's something going on here.\n",
    "With the three double-quotes.\n",
    "We'll be able to type as much as we like.\n",
    "Even 4 lines if we want, or 5, or 6.\n",
    "\"\"\")"
   ]
  },
  {
   "cell_type": "markdown",
   "metadata": {},
   "source": [
    "More printing and two new functions: the backslash n (\\n), that encodes difficult-to-type characters into a string, and the triple double-quoting (\"\"\") to write as many text as we want."
   ]
  },
  {
   "cell_type": "markdown",
   "metadata": {},
   "source": [
    "# Exercise 10: What Was That?"
   ]
  },
  {
   "cell_type": "code",
   "execution_count": 39,
   "metadata": {},
   "outputs": [
    {
     "name": "stdout",
     "output_type": "stream",
     "text": [
      "\tThis is tabbed in.\n",
      "This is split\n",
      "on a line.\n",
      "I'm \\ a \\ bot.\n",
      "\n",
      "To-do list:\n",
      "\t* Get the clothes cleaned\n",
      "\t* Go for the kids\n",
      "\t* Make the shopping\n",
      "\t* Cut the grass\n",
      "\n"
     ]
    }
   ],
   "source": [
    "ln1 = \"\\tThis is tabbed in.\"\n",
    "ln2 = \"This is split\\non a line.\"\n",
    "ln3 = \"I'm \\\\ a \\\\ bot.\"\n",
    "\n",
    "ln4 = \"\"\"\n",
    "To-do list:\n",
    "\\t* Get the clothes cleaned\n",
    "\\t* Go for the kids\n",
    "\\t* Make the shopping\\n\\t* Cut the grass\n",
    "\"\"\"\n",
    "\n",
    "print(ln1)\n",
    "print(ln2)\n",
    "print(ln3)\n",
    "print(ln4)"
   ]
  },
  {
   "cell_type": "markdown",
   "metadata": {},
   "source": [
    "This make us practice the \\, \\n and \\t functions."
   ]
  },
  {
   "cell_type": "code",
   "execution_count": null,
   "metadata": {},
   "outputs": [],
   "source": []
  }
 ],
 "metadata": {
  "kernelspec": {
   "display_name": "Python 3",
   "language": "python",
   "name": "python3"
  },
  "language_info": {
   "codemirror_mode": {
    "name": "ipython",
    "version": 3
   },
   "file_extension": ".py",
   "mimetype": "text/x-python",
   "name": "python",
   "nbconvert_exporter": "python",
   "pygments_lexer": "ipython3",
   "version": "3.7.4"
  }
 },
 "nbformat": 4,
 "nbformat_minor": 2
}
