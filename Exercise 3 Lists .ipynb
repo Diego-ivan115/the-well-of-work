{
 "cells": [
  {
   "cell_type": "markdown",
   "metadata": {},
   "source": [
    "## Lists and loops"
   ]
  },
  {
   "cell_type": "markdown",
   "metadata": {},
   "source": [
    "The use of this type of commands are usefull to save lists of information in a single variable, and then when is needed the use of this storaged data."
   ]
  },
  {
   "cell_type": "markdown",
   "metadata": {},
   "source": [
    "# Exercise: list of names."
   ]
  },
  {
   "cell_type": "code",
   "execution_count": 5,
   "metadata": {},
   "outputs": [
    {
     "name": "stdout",
     "output_type": "stream",
     "text": [
      "How many guests are present today? 1\n",
      "Introduce the guests´s names: Karmina\n",
      "Which guest do you want to see? 0\n",
      "The guest 0 is Karmina\n"
     ]
    }
   ],
   "source": [
    "people= int(input(\"How many guests are present today? \"))\n",
    "names= []\n",
    "for i in range(0, people):\n",
    "    a= input(\"Introduce the guests´s names: \")\n",
    "    names.append(a)\n",
    "b=int(input(\"Which guest do you want to see? \"))\n",
    "print(f\"The guest {b} is {names[b]}\")"
   ]
  },
  {
   "cell_type": "markdown",
   "metadata": {},
   "source": [
    "The code asks for the amount of people that is present, then creates a list where the names will be stored, after this, the program will register the names and will allow to us the posibility of recall any given name"
   ]
  },
  {
   "cell_type": "code",
   "execution_count": null,
   "metadata": {},
   "outputs": [],
   "source": []
  }
 ],
 "metadata": {
  "kernelspec": {
   "display_name": "Python 3",
   "language": "python",
   "name": "python3"
  },
  "language_info": {
   "codemirror_mode": {
    "name": "ipython",
    "version": 3
   },
   "file_extension": ".py",
   "mimetype": "text/x-python",
   "name": "python",
   "nbconvert_exporter": "python",
   "pygments_lexer": "ipython3",
   "version": "3.7.4"
  }
 },
 "nbformat": 4,
 "nbformat_minor": 2
}
