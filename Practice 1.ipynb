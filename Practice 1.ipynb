{
 "cells": [
  {
   "cell_type": "markdown",
   "metadata": {},
   "source": [
    "## Questions and Answers "
   ]
  },
  {
   "cell_type": "code",
   "execution_count": 15,
   "metadata": {},
   "outputs": [
    {
     "name": "stdout",
     "output_type": "stream",
     "text": [
      "What is your name?\n",
      "1\n",
      "Nice to meet you,1\n",
      "How old are you?\n",
      "1\n",
      "Really you are 1? I am suprise\n",
      "I see that you are with a friend, Can you tell me his name?\n",
      "1\n",
      "Well, hello, 1 nice to meet you\n",
      "How old are you? 1\n",
      "Well, you look younger than, 1\n",
      "Oh, another friend. Can you tell me your name?1\n",
      "Nice to meet you as well, How old are you? 1\n",
      "if you three were combined together your age would be:1.0\n",
      "Good bye, my new friends :)\n"
     ]
    }
   ],
   "source": [
    "print(\"What is your name?\")\n",
    "name=input()\n",
    "print(f\"Nice to meet you,{name}\")\n",
    "print(\"How old are you?\")\n",
    "age=int (input())\n",
    "print(f\"Really you are {age}? I am suprise\")\n",
    "print(\"I see that you are with a friend, Can you tell me his name?\")\n",
    "name1=input()\n",
    "print(f\"Well, hello, {name1} nice to meet you\")\n",
    "age1=int (input(\"How old are you? \"))\n",
    "print(f\"Well, you look younger than, {name}\")\n",
    "name2=input(\"Oh, another friend. Can you tell me your name?\")\n",
    "age2=int (input(\"Nice to meet you as well, How old are you? \"))\n",
    "aage=age+age1+age2\n",
    "Age=aage/3\n",
    "print(f\"if you three were combined together your age would be:{Age}\")\n",
    "print(\"Good bye, my new friends :)\")\n"
   ]
  },
  {
   "cell_type": "markdown",
   "metadata": {},
   "source": [
    "The command \"input\" allows us to give a written input from the keyboard to the code in order to fullfil information and allows the program to continue, proporcionating new questions and a follow up answer."
   ]
  }
 ],
 "metadata": {
  "kernelspec": {
   "display_name": "Python 3",
   "language": "python",
   "name": "python3"
  },
  "language_info": {
   "codemirror_mode": {
    "name": "ipython",
    "version": 3
   },
   "file_extension": ".py",
   "mimetype": "text/x-python",
   "name": "python",
   "nbconvert_exporter": "python",
   "pygments_lexer": "ipython3",
   "version": "3.7.4"
  }
 },
 "nbformat": 4,
 "nbformat_minor": 2
}
