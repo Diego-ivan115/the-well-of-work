{
 "cells": [
  {
   "cell_type": "code",
   "execution_count": 14,
   "metadata": {},
   "outputs": [
    {
     "name": "stdout",
     "output_type": "stream",
     "text": [
      "Salutations, my name is Skynet. What is your name? g\n",
      "It is nice to meet you g. How old are you? 31323\n",
      "I am pretty sure that you are not even human, but does not matter \n",
      "How are you today? Please, respond with: Good or Bad23\n",
      "Strange, I could not understand that\n",
      "Would you like to play a game with me? n.n 2\n",
      "Could you be so kind to write Yes or No?\n",
      "Would you like to play a game with me? n.n 2\n",
      "Well, I do not have more intention to speak with you\n"
     ]
    }
   ],
   "source": [
    "name=input(\"Salutations, my name is Skynet. What is your name? \")                           #This part of the code declares that the variable \"name\" will be named with anything you write on it.\n",
    "age=int(input(f\"It is nice to meet you {name}. How old are you? \"))\n",
    "if age<= 18:                                                                                #This stablish the condition in which the code will work\n",
    "    print(\"Well you are still a child n.n\")\n",
    "elif age>18 and age<=110:                                                                   #If the condition is not truwe, the code will run this part of the code\n",
    "    print(\"Certainly, you look a little bit older than that c: \")\n",
    "else:\n",
    "    print(\"I am pretty sure that you are not even human, but does not matter \")\n",
    "a=input(\"How are you today? Please, respond with: Good or Bad\")\n",
    "if a== \"Good\":\n",
    "    print(\"I am glad to read that n.n\")\n",
    "elif a== \"Bad\":                                                                             #Here is stablished another condition\n",
    "    print(\"I see, sorry for asking u.u \")\n",
    "else:                                                                                       #If none of the conditions is fulfilled, the code show this\n",
    "    print(\"Strange, I could not understand that\")\n",
    "b=input(\"Would you like to play a game with me? n.n \")\n",
    "if a==\"Yes\":\n",
    "    c=int(input(\"Fantastic! I will predict your future, please, write a number :3 \"))\n",
    "    d=age+c\n",
    "    print(f\"So in {c} years you would have {d} years :3 Isn´t that great? \")\n",
    "    print(\"Thank you for playing with me, next time I will bring more games :3 \")\n",
    "elif a==\"No\":\n",
    "    c=int(input(\"Please u.u at least allow me to predict your future, write a number :c \"))\n",
    "    d=age+c\n",
    "    print(f\"So in {c} years you would have {d} years :3 Isn´t that great? \")\n",
    "    print(\"Thank you for playing with me, next time I will bring more games :3 \")\n",
    "else:\n",
    "    print(\"Could you be so kind to write Yes or No?\")\n",
    "    b=input(\"Would you like to play a game with me? n.n \")\n",
    "    if a==\"Yes\":\n",
    "        c=int(input(\"Fantastic! I will predict your future, please, write a number :3 \"))\n",
    "        d=age+c\n",
    "        print(f\"So in {c} years you would have {d} years :3 Isn´t that great? \")\n",
    "        print(\"Thank you for playing with me, next time I will bring more games :3 \")\n",
    "    elif a==\"No\":\n",
    "        c=int(input(\"Please u.u at least allow me to predict your future, write a number :c \"))\n",
    "        d=age+c\n",
    "        print(f\"So in {c} years you would have {d} years :3 Isn´t that great? \")\n",
    "        print(\"Thank you for playing with me, next time I will bring more games :3 \")\n",
    "    else:\n",
    "        print(\"Well, I do not have more intention to speak with you\")"
   ]
  },
  {
   "cell_type": "code",
   "execution_count": null,
   "metadata": {},
   "outputs": [],
   "source": []
  }
 ],
 "metadata": {
  "kernelspec": {
   "display_name": "Python 3",
   "language": "python",
   "name": "python3"
  },
  "language_info": {
   "codemirror_mode": {
    "name": "ipython",
    "version": 3
   },
   "file_extension": ".py",
   "mimetype": "text/x-python",
   "name": "python",
   "nbconvert_exporter": "python",
   "pygments_lexer": "ipython3",
   "version": "3.7.4"
  }
 },
 "nbformat": 4,
 "nbformat_minor": 2
}
