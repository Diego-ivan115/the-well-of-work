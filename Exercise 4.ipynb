{
 "cells": [
  {
   "cell_type": "code",
   "execution_count": 13,
   "metadata": {},
   "outputs": [
    {
     "name": "stdout",
     "output_type": "stream",
     "text": [
      "How many data do you want to calculate? 7\n",
      "Write the values: 5\n",
      "Write the values: 3\n",
      "Write the values: 7\n",
      "Write the values: 1\n",
      "Write the values: 9\n",
      "Write the values: 13\n",
      "Write the values: 17\n",
      "Please write: 0 for Sample Mean, 1 for Mode, or 2 for Standard Deviation.\n",
      "What do you want to calculate?: 2\n",
      "The Standard Deviation is: 5.644213218610974\n"
     ]
    }
   ],
   "source": [
    "data = []\n",
    "sm = 0\n",
    "m = 0\n",
    "sv = 0\n",
    "sum1 = 0\n",
    "sd = 0\n",
    "\n",
    "dataq = int(input(\"How many data do you want to calculate? \"))\n",
    "\n",
    "for i in range(0,dataq):\n",
    "    datax = float(input(\"Write the values: \"))\n",
    "    data.append(datax)\n",
    "\n",
    "print(\"Please write: 0 for Sample Mean, 1 for Mode, or 2 for Standard Deviation.\")\n",
    "operation = input(\"What do you want to calculate?: \")\n",
    "\n",
    "if operation == \"0\":\n",
    "    for i in range(0, dataq):\n",
    "        sm = sm + data[i]\n",
    "    sample_mean = sm / dataq\n",
    "    print(f\"The sample mean is: {sample_mean}\")\n",
    "\n",
    "#We could not do this, we are very sorry.\n",
    "#elif operation = \"1\":\n",
    " #   for i in range(0, dataq):\n",
    "    \n",
    "        \n",
    "elif operation == \"2\":\n",
    "    for i in range(0, dataq):\n",
    "        sm = sm + data[i]\n",
    "        sample_mean = sm / dataq\n",
    "        sum1 = (data[i] - sample_mean)\n",
    "        sum2 = sum1**2\n",
    "        sum2 = sum2 / (dataq - 1)\n",
    "        sv = sv + sum1\n",
    "        sd = sv ** 0.5\n",
    "    print(f\"The Standard Deviation is: {sd}\")"
   ]
  },
  {
   "cell_type": "markdown",
   "metadata": {},
   "source": []
  },
  {
   "cell_type": "code",
   "execution_count": null,
   "metadata": {},
   "outputs": [],
   "source": []
  }
 ],
 "metadata": {
  "kernelspec": {
   "display_name": "Python 3",
   "language": "python",
   "name": "python3"
  },
  "language_info": {
   "codemirror_mode": {
    "name": "ipython",
    "version": 3
   },
   "file_extension": ".py",
   "mimetype": "text/x-python",
   "name": "python",
   "nbconvert_exporter": "python",
   "pygments_lexer": "ipython3",
   "version": "3.7.4"
  }
 },
 "nbformat": 4,
 "nbformat_minor": 2
}
